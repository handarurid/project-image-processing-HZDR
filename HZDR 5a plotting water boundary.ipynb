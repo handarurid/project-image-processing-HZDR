{
 "cells": [
  {
   "cell_type": "code",
   "execution_count": 13,
   "metadata": {},
   "outputs": [
    {
     "name": "stderr",
     "output_type": "stream",
     "text": [
      "C:\\Anaconda3\\lib\\site-packages\\dask\\config.py:168: YAMLLoadWarning: calling yaml.load() without Loader=... is deprecated, as the default Loader is unsafe. Please read https://msg.pyyaml.org/load for full details.\n",
      "  data = yaml.load(f.read()) or {}\n"
     ]
    }
   ],
   "source": [
    "import cv2\n",
    "import numpy as np\n",
    "import matplotlib.pyplot as plt\n",
    "from skimage import draw"
   ]
  },
  {
   "cell_type": "code",
   "execution_count": 2,
   "metadata": {},
   "outputs": [],
   "source": [
    "def preprocess_image(filename):\n",
    "    bgr_image       = cv2.imread(filename)\n",
    "    rgb_image       = cv2.cvtColor(bgr_image, cv2.COLOR_BGR2RGB)\n",
    "    gray_image      = cv2.cvtColor(rgb_image, cv2.COLOR_RGB2GRAY)\n",
    "    _, binary_image = cv2.threshold(gray_image, 210, 255, cv2.THRESH_BINARY)\n",
    "    binary_image    = binary_image/255\n",
    "    \n",
    "    return binary_image, gray_image"
   ]
  },
  {
   "cell_type": "code",
   "execution_count": 3,
   "metadata": {},
   "outputs": [],
   "source": [
    "# points is a starting coordinate --> [y,x]\n",
    "def count_pixel(binary_image, points):\n",
    "    y = points[0]\n",
    "    x = points[1]\n",
    "    no_of_pixels = 0\n",
    "    \n",
    "    while binary_image[y,x] == 1:\n",
    "        y += 1\n",
    "        no_of_pixels += 1\n",
    "    \n",
    "    return no_of_pixels"
   ]
  },
  {
   "cell_type": "code",
   "execution_count": 35,
   "metadata": {},
   "outputs": [],
   "source": [
    "def find_boundary_coord(inversed_heights):\n",
    "    return UPPER_BOUNDS_CAM1[:,0] + inversed_heights"
   ]
  },
  {
   "cell_type": "code",
   "execution_count": 4,
   "metadata": {},
   "outputs": [],
   "source": [
    "def height_inverse(binary_image, starting_points):\n",
    "    heights = []\n",
    "    for points in starting_points:\n",
    "        height = count_pixel(binary_image, points)\n",
    "        heights.append(height)\n",
    "    \n",
    "    return np.array(heights)"
   ]
  },
  {
   "cell_type": "code",
   "execution_count": 5,
   "metadata": {},
   "outputs": [],
   "source": [
    "# inverse_height has to be a numpy array\n",
    "def actual_height(inversed_height):\n",
    "    return 302-inversed_height"
   ]
  },
  {
   "cell_type": "code",
   "execution_count": 6,
   "metadata": {},
   "outputs": [],
   "source": [
    "def pixel_to_mm(value):\n",
    "    return value*0.828"
   ]
  },
  {
   "cell_type": "code",
   "execution_count": 30,
   "metadata": {},
   "outputs": [],
   "source": [
    "cam1_points = [[90,200], [72,400], [70,600], [75,800], [82,1000]]     # 5 points\n",
    "\n",
    "# approximation\n",
    "UPPER_BOUNDS_CAM1 = [[90,200], [85,225], [82,250], [80,275], \n",
    "                     [78,300], [75,325], [73,350], [73,375],\n",
    "                     [72,400], [71,425], [71,450], [71,475],\n",
    "                     [70,500], [70,525], [70,550], [70,575],\n",
    "                     [70,600], [70,625], [70,650], [70,675],\n",
    "                     [70,700], [70,725], [70,750], [70,775],\n",
    "                     [75,800], [73,825], [75,850], [76,875],\n",
    "                     [77,900], [78,925], [78,950], [81,975],\n",
    "                     [82,1000],]\n",
    "\n",
    "cam1_points = np.array(cam1_points)\n",
    "UPPER_BOUNDS_CAM1 = np.array(UPPER_BOUNDS_CAM1)"
   ]
  },
  {
   "cell_type": "code",
   "execution_count": 34,
   "metadata": {},
   "outputs": [
    {
     "data": {
      "text/plain": [
       "array([90, 85, 82, 80, 78, 75, 73, 73, 72, 71, 71, 71, 70, 70, 70, 70, 70,\n",
       "       70, 70, 70, 70, 70, 70, 70, 75, 73, 75, 76, 77, 78, 78, 81, 82])"
      ]
     },
     "execution_count": 34,
     "metadata": {},
     "output_type": "execute_result"
    }
   ],
   "source": [
    "UPPER_BOUNDS_CAM1[:,0]"
   ]
  },
  {
   "cell_type": "code",
   "execution_count": 22,
   "metadata": {},
   "outputs": [],
   "source": [
    "binary_image, gray_image = preprocess_image('CCFL002_1_2000_500_up_cam1_a_post.jpg')\n",
    "heights = height_inverse(binary_image, UPPER_BOUNDS_CAM1)\n",
    "heights = actual_height(heights)\n",
    "heights = pixel_to_mm(heights)"
   ]
  },
  {
   "cell_type": "code",
   "execution_count": 23,
   "metadata": {},
   "outputs": [
    {
     "data": {
      "text/plain": [
       "array([42.228, 38.916, 34.776, 33.12 , 43.884, 39.744, 38.088, 30.636,\n",
       "       26.496, 19.872, 14.076,  9.108,  7.452,  9.936,  9.936,  9.108,\n",
       "       13.248, 18.216, 18.216, 24.84 , 28.98 , 25.668, 10.764, 11.592,\n",
       "       14.076, 16.56 , 20.7  , 21.528, 33.948, 32.292, 24.012, 20.7  ,\n",
       "       17.388])"
      ]
     },
     "execution_count": 23,
     "metadata": {},
     "output_type": "execute_result"
    }
   ],
   "source": [
    "heights"
   ]
  },
  {
   "cell_type": "code",
   "execution_count": 14,
   "metadata": {
    "scrolled": true
   },
   "outputs": [
    {
     "data": {
      "text/plain": [
       "[<matplotlib.lines.Line2D at 0x17b2eee26d8>]"
      ]
     },
     "execution_count": 14,
     "metadata": {},
     "output_type": "execute_result"
    },
    {
     "data": {
      "image/png": "[encoded data removed]",
      "text/plain": [
       "<Figure size 1296x360 with 1 Axes>"
      ]
     },
     "metadata": {
      "needs_background": "light"
     },
     "output_type": "display_data"
    }
   ],
   "source": [
    "plt.figure(figsize=(18,5))\n",
    "plt.ylim([0,250])\n",
    "plt.ylabel('ketinggian air (mm)')\n",
    "plt.xlabel('33 titik pada sumbu x')\n",
    "plt.plot(heights)"
   ]
  },
  {
   "cell_type": "code",
   "execution_count": 17,
   "metadata": {},
   "outputs": [],
   "source": [
    "binary_image, gray_image = preprocess_image('CCFL002_1_2000_500_up_cam1_a_pre.jpg')\n",
    "heights = height_inverse(binary_image, upper_bounds_cam1)\n",
    "heights = actual_height(heights)\n",
    "heights = pixel_to_mm(heights)"
   ]
  },
  {
   "cell_type": "code",
   "execution_count": 18,
   "metadata": {
    "scrolled": true
   },
   "outputs": [
    {
     "data": {
      "text/plain": [
       "[<matplotlib.lines.Line2D at 0x17b29fd47b8>]"
      ]
     },
     "execution_count": 18,
     "metadata": {},
     "output_type": "execute_result"
    },
    {
     "data": {
      "image/png": "[encoded data removed]",
      "text/plain": [
       "<Figure size 1296x360 with 1 Axes>"
      ]
     },
     "metadata": {
      "needs_background": "light"
     },
     "output_type": "display_data"
    }
   ],
   "source": [
    "plt.figure(figsize=(18,5))\n",
    "plt.ylim([0,250])\n",
    "plt.ylabel('ketinggian air (mm)')\n",
    "plt.xlabel('33 titik pada sumbu x')\n",
    "plt.plot(heights)"
   ]
  },
  {
   "cell_type": "code",
   "execution_count": null,
   "metadata": {},
   "outputs": [],
   "source": [
    "rrs0, ccs0, vals0 = "
   ]
  },
  {
   "cell_type": "code",
   "execution_count": null,
   "metadata": {},
   "outputs": [],
   "source": []
  },
  {
   "cell_type": "code",
   "execution_count": null,
   "metadata": {},
   "outputs": [],
   "source": []
  },
  {
   "cell_type": "code",
   "execution_count": null,
   "metadata": {},
   "outputs": [],
   "source": []
  },
  {
   "cell_type": "code",
   "execution_count": null,
   "metadata": {},
   "outputs": [],
   "source": []
  }
 ],
 "metadata": {
  "kernelspec": {
   "display_name": "Python 3",
   "language": "python",
   "name": "python3"
  },
  "language_info": {
   "codemirror_mode": {
    "name": "ipython",
    "version": 3
   },
   "file_extension": ".py",
   "mimetype": "text/x-python",
   "name": "python",
   "nbconvert_exporter": "python",
   "pygments_lexer": "ipython3",
   "version": "3.8.5"
  }
 },
 "nbformat": 4,
 "nbformat_minor": 2
}
