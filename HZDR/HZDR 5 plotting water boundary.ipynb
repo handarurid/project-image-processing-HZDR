{
 "cells": [
  {
   "cell_type": "code",
   "execution_count": 3,
   "metadata": {},
   "outputs": [],
   "source": [
    "import cv2\n",
    "import numpy as np\n",
    "import matplotlib.pyplot as plt"
   ]
  },
  {
   "cell_type": "code",
   "execution_count": 4,
   "metadata": {},
   "outputs": [],
   "source": [
    "def preprocess_image(filename):\n",
    "    image = cv2.imread(filename)\n",
    "    image = cv2.cvtColor(image, cv2.COLOR_BGR2RGB)\n",
    "    image = cv2.cvtColor(image, cv2.COLOR_RGB2GRAY)\n",
    "    _, image = cv2.threshold(image, 210, 255, cv2.THRESH_BINARY)\n",
    "    binary_image = image / 255\n",
    "    return binary_image"
   ]
  },
  {
   "cell_type": "code",
   "execution_count": 5,
   "metadata": {},
   "outputs": [],
   "source": [
    "# points is a starting coordinate --> [y,x]\n",
    "def count_pixel(binary_image, points):\n",
    "    y = points[0]\n",
    "    x = points[1]\n",
    "    no_of_pixels = 0\n",
    "    \n",
    "    while binary_image[y,x] == 1:\n",
    "        y += 1\n",
    "        no_of_pixels += 1\n",
    "    \n",
    "    return no_of_pixels"
   ]
  },
  {
   "cell_type": "code",
   "execution_count": 6,
   "metadata": {},
   "outputs": [],
   "source": [
    "def height_inverse(binary_image, starting_points):\n",
    "    heights = []\n",
    "    for points in starting_points:\n",
    "        height = count_pixel(binary_image, points)\n",
    "        heights.append(height)\n",
    "    \n",
    "    return np.array(heights)"
   ]
  },
  {
   "cell_type": "code",
   "execution_count": 7,
   "metadata": {},
   "outputs": [],
   "source": [
    "# inverse_height has to be a numpy array\n",
    "def actual_height(inverse_height):\n",
    "    return 302-inverse_height"
   ]
  },
  {
   "cell_type": "code",
   "execution_count": 8,
   "metadata": {},
   "outputs": [],
   "source": [
    "def pixel_to_mm(value):\n",
    "    return value*0.828"
   ]
  },
  {
   "cell_type": "code",
   "execution_count": 9,
   "metadata": {},
   "outputs": [],
   "source": [
    "cam1_points = [[90,200], [72,400], [70,600], [75,800], [82,1000]]     # 5 points\n",
    "\n",
    "# approximation\n",
    "upper_bounds_cam1 = [[90,200], [85,225], [82,250], [80,275], \n",
    "                     [78,300], [75,325], [73,350], [73,375],\n",
    "                     [72,400], [71,425], [71,450], [71,475],\n",
    "                     [70,500], [70,525], [70,550], [70,575],\n",
    "                     [70,600], [70,625], [70,650], [70,675],\n",
    "                     [70,700], [70,725], [70,750], [70,775],\n",
    "                     [75,800], [73,825], [75,850], [76,875],\n",
    "                     [77,900], [78,925], [78,950], [81,975],\n",
    "                     [82,1000],]\n",
    "\n",
    "cam1_points = np.array(cam1_points)\n",
    "upper_bounds_cam1 = np.array(upper_bounds_cam1)"
   ]
  },
  {
   "cell_type": "code",
   "execution_count": 10,
   "metadata": {},
   "outputs": [],
   "source": [
    "binary_image = preprocess_image('CCFL002_1_2000_500_up_cam1_a_post.jpg')\n",
    "heights = height_inverse(binary_image, cam1_points)\n",
    "heights = actual_height(heights)\n",
    "heights = pixel_to_mm(heights)"
   ]
  },
  {
   "cell_type": "code",
   "execution_count": 11,
   "metadata": {},
   "outputs": [
    {
     "data": {
      "text/plain": [
       "array([42.228, 26.496, 13.248, 14.076, 17.388])"
      ]
     },
     "execution_count": 11,
     "metadata": {},
     "output_type": "execute_result"
    }
   ],
   "source": [
    "heights"
   ]
  },
  {
   "cell_type": "code",
   "execution_count": 31,
   "metadata": {},
   "outputs": [],
   "source": [
    "binary_image = preprocess_image('CCFL002_1_2000_500_up_cam1_a_post.jpg')\n",
    "heights = height_inverse(binary_image, upper_bounds_cam1)\n",
    "heights = actual_height(heights)"
   ]
  },
  {
   "cell_type": "code",
   "execution_count": 32,
   "metadata": {
    "scrolled": true
   },
   "outputs": [
    {
     "data": {
      "text/plain": [
       "[<matplotlib.lines.Line2D at 0x1cf17299630>]"
      ]
     },
     "execution_count": 32,
     "metadata": {},
     "output_type": "execute_result"
    },
    {
     "data": {
      "image/png": "[encoded data removed]",
      "text/plain": [
       "<Figure size 1440x72 with 1 Axes>"
      ]
     },
     "metadata": {
      "needs_background": "light"
     },
     "output_type": "display_data"
    }
   ],
   "source": [
    "plt.figure(figsize=(20,1))\n",
    "plt.ylim([0,250])\n",
    "plt.plot(heights)"
   ]
  },
  {
   "cell_type": "code",
   "execution_count": 28,
   "metadata": {},
   "outputs": [],
   "source": [
    "binary_image = preprocess_image('CCFL002_1_2000_500_up_cam1_a_pre.jpg')\n",
    "heights = height_inverse(binary_image, upper_bounds_cam1)\n",
    "heights = actual_height(heights)\n",
    "heights = pixel_to_mm(heights)"
   ]
  },
  {
   "cell_type": "code",
   "execution_count": 29,
   "metadata": {},
   "outputs": [
    {
     "data": {
      "text/plain": [
       "[<matplotlib.lines.Line2D at 0x1cf1799ec18>]"
      ]
     },
     "execution_count": 29,
     "metadata": {},
     "output_type": "execute_result"
    },
    {
     "data": {
      "image/png": "[encoded data removed]",
      "text/plain": [
       "<Figure size 1440x72 with 1 Axes>"
      ]
     },
     "metadata": {
      "needs_background": "light"
     },
     "output_type": "display_data"
    }
   ],
   "source": [
    "plt.figure(figsize=(20,1))\n",
    "plt.ylim([0,250])\n",
    "plt.plot(heights)"
   ]
  },
  {
   "cell_type": "code",
   "execution_count": 30,
   "metadata": {},
   "outputs": [
    {
     "data": {
      "text/plain": [
       "array([32.292, 28.98 , 28.98 , 28.98 , 33.12 , 40.572, 41.4  , 47.196,\n",
       "       47.196, 44.712, 39.744, 34.776, 37.26 , 34.776, 45.54 , 45.54 ,\n",
       "       51.336, 47.196, 48.852, 29.808, 29.808, 16.56 , 14.904, 16.56 ,\n",
       "       20.7  , 16.56 , 17.388, 18.216, 19.044, 22.356, 28.152, 33.12 ,\n",
       "       35.604])"
      ]
     },
     "execution_count": 30,
     "metadata": {},
     "output_type": "execute_result"
    }
   ],
   "source": [
    "heights"
   ]
  },
  {
   "cell_type": "code",
   "execution_count": null,
   "metadata": {},
   "outputs": [],
   "source": []
  }
 ],
 "metadata": {
  "kernelspec": {
   "display_name": "Python 3.7.3 64-bit ('base': conda)",
   "language": "python",
   "name": "python37364bitbaseconda65b5f305a1974c36abb2297a98801d43"
  },
  "language_info": {
   "codemirror_mode": {
    "name": "ipython",
    "version": 3
   },
   "file_extension": ".py",
   "mimetype": "text/x-python",
   "name": "python",
   "nbconvert_exporter": "python",
   "pygments_lexer": "ipython3",
   "version": "3.7.3"
  }
 },
 "nbformat": 4,
 "nbformat_minor": 2
}
