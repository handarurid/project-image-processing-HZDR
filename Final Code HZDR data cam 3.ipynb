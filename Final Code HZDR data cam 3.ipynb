{
 "cells": [
  {
   "cell_type": "code",
   "execution_count": 1,
   "metadata": {},
   "outputs": [],
   "source": [
    "import os\n",
    "import cv2\n",
    "import imageio\n",
    "import numpy as np\n",
    "import pandas as pd\n",
    "import matplotlib.pyplot as plt\n",
    "import seaborn as sns; sns.set()\n",
    "from tqdm import tqdm\n",
    "from skimage import draw\n",
    "from scipy import ndimage"
   ]
  },
  {
   "cell_type": "markdown",
   "metadata": {},
   "source": [
    "### Starting points"
   ]
  },
  {
   "cell_type": "code",
   "execution_count": 2,
   "metadata": {},
   "outputs": [],
   "source": [
    "# approximation\n",
    "UPPER_BOUNDS_CAM1 = [[110,150], [95,175],\n",
    "                     [90,200], [85,225], [82,250], [80,275], \n",
    "                     [78,300], [75,325], [73,350], [73,375],\n",
    "                     [72,400], [71,425], [71,450], [71,475],\n",
    "                     [70,500], [70,525], [70,550], [70,575],\n",
    "                     [70,600], [70,625], [70,650], [70,675],\n",
    "                     [70,700], [70,725], [70,750], [70,775],\n",
    "                     [75,800], [73,825], [75,850], [76,875],\n",
    "                     [77,900], [78,925], [78,950], [81,975],\n",
    "                     [82,1000], [88,1025], [94,1050], \n",
    "                     [100,1075], [100,1100], [120,1125]]\n",
    "\n",
    "# Starting points for boundary line\n",
    "UPPER_BOUNDS_CAM3 = [[845,150], [845,175],\n",
    "                     [840,200], [835,225], [827,250], [819,275], \n",
    "                     [805,300], [790,325], [775,350], [750,375],\n",
    "                     [730,400], [710,425], [690,450], [665,475],\n",
    "                     [630,500], [600,525], [560,550], [550,575],\n",
    "                     [505,600], [400,625], [380,650], [380,675],\n",
    "                     [380,700], [380,725], [380,750], [380,775],\n",
    "                     [380,800], [380,825], [380,850], [380,875],\n",
    "                     [380,900], [380,925], [380,950], [380,975],\n",
    "                     [380,1000], [380,1025], [380,1050], [380,1075], \n",
    "                     [380,1100]]\n",
    "\n",
    "# Cam3A details:\n",
    "\n",
    "# 15 deg (leftmost)\n",
    "UPPER_BOUNDS_CAM3A1 = [[870, 375]]\n",
    "\n",
    "# 25 deg (mid)\n",
    "UPPER_BOUNDS_CAM3A2 = [[885, 450]]\n",
    "\n",
    "# 35 deg (rightmost)\n",
    "UPPER_BOUNDS_CAM3A3 = [[845, 525]]\n",
    "\n",
    "\n",
    "UPPER_BOUNDS_CAM3B = [[800,600], [800,625], [800,650], [800,675],\n",
    "                     [800,700], [800,725], [800,750], [800,775],\n",
    "                     [800,800], [800,825], [800,850], [800,875],\n",
    "                     [800,900], [800,925], [800,950], [800,975],\n",
    "                     [800,1000]]\n",
    "\n",
    "LOWER_BOUNDS_CAM3C = [[700,900], [715,925], [725,950], [730,975],\n",
    "                     [740,1000], [750,1025], [760,1050], [765,1075], \n",
    "                     [765,1100]]\n",
    "\n",
    "UPPER_BOUNDS_CAM1 = np.array(UPPER_BOUNDS_CAM1)\n",
    "UPPER_BOUNDS_CAM3 = np.array(UPPER_BOUNDS_CAM3)\n",
    "UPPER_BOUNDS_CAM3A1 = np.array(UPPER_BOUNDS_CAM3A1)\n",
    "UPPER_BOUNDS_CAM3A2 = np.array(UPPER_BOUNDS_CAM3A2)\n",
    "UPPER_BOUNDS_CAM3A3 = np.array(UPPER_BOUNDS_CAM3A3)\n",
    "UPPER_BOUNDS_CAM3B = np.array(UPPER_BOUNDS_CAM3B)\n",
    "LOWER_BOUNDS_CAM3C = np.array(LOWER_BOUNDS_CAM3C)\n",
    "\n",
    "INDICES_CAM1 = [2,6,10,14,18,22,26,30,34]\n",
    "INDICES_CAM3A1 = [0]\n",
    "INDICES_CAM3A2 = [0]\n",
    "INDICES_CAM3A3 = [0]\n",
    "INDICES_CAM3B = [2,6,10,14]\n",
    "INDICES_CAM3C = [2,6]"
   ]
  },
  {
   "cell_type": "code",
   "execution_count": 3,
   "metadata": {},
   "outputs": [],
   "source": [
    "# filename is an image file\n",
    "def preprocess_image(filename):\n",
    "    bgr_image       = cv2.imread(filename)\n",
    "    bgr_image       = increase_brightness(bgr_image, value=40)\n",
    "    \n",
    "    rgb_image       = cv2.cvtColor(bgr_image, cv2.COLOR_BGR2RGB)\n",
    "    rgb_image45     = ndimage.rotate(rgb_image, -45)\n",
    "    rgb_image35     = ndimage.rotate(rgb_image, -35)\n",
    "    rgb_image25     = ndimage.rotate(rgb_image, -25)\n",
    "    rgb_image15     = ndimage.rotate(rgb_image, -15)\n",
    "    \n",
    "    gray_image      = cv2.cvtColor(rgb_image, cv2.COLOR_RGB2GRAY)\n",
    "    gray_image45    = ndimage.rotate(gray_image, -45)\n",
    "    gray_image35    = ndimage.rotate(gray_image, -35)\n",
    "    gray_image25    = ndimage.rotate(gray_image, -25)\n",
    "    gray_image15    = ndimage.rotate(gray_image, -15)\n",
    "    \n",
    "    _, binary_image = cv2.threshold(gray_image, 220, 255, cv2.THRESH_BINARY)\n",
    "    binary_image    = binary_image/255\n",
    "    \n",
    "    _, binary_image45 = cv2.threshold(gray_image45, 220, 255, cv2.THRESH_BINARY)\n",
    "    binary_image45    = binary_image45/255\n",
    "    \n",
    "    # A3 (rightmost)\n",
    "    _, binary_image35 = cv2.threshold(gray_image35, 220, 255, cv2.THRESH_BINARY)\n",
    "    binary_image35    = binary_image35/255\n",
    "    \n",
    "    # A2 (mid)\n",
    "    _, binary_image25 = cv2.threshold(gray_image25, 220, 255, cv2.THRESH_BINARY)\n",
    "    binary_image25    = binary_image25/255\n",
    "    \n",
    "    # A1 (leftmost)\n",
    "    _, binary_image15 = cv2.threshold(gray_image15, 220, 255, cv2.THRESH_BINARY)\n",
    "    binary_image15    = binary_image15/255\n",
    "    \n",
    "    return (binary_image, rgb_image, binary_image45, rgb_image45, \n",
    "            binary_image35, rgb_image35, binary_image25, rgb_image25, \n",
    "            binary_image15, rgb_image15)"
   ]
  },
  {
   "cell_type": "code",
   "execution_count": 4,
   "metadata": {},
   "outputs": [],
   "source": [
    "def increase_brightness(img, value=30):\n",
    "    hsv = cv2.cvtColor(img, cv2.COLOR_BGR2HSV)\n",
    "    h, s, v = cv2.split(hsv)\n",
    "\n",
    "    lim = 255 - value\n",
    "    v[v > lim] = 255\n",
    "    v[v <= lim] += value\n",
    "\n",
    "    final_hsv = cv2.merge((h, s, v))\n",
    "    img = cv2.cvtColor(final_hsv, cv2.COLOR_HSV2BGR)\n",
    "    return img"
   ]
  },
  {
   "cell_type": "code",
   "execution_count": 5,
   "metadata": {},
   "outputs": [],
   "source": [
    "# points is a starting coordinate --> [y,x]\n",
    "# this function is used in inversed_hieghts() function\n",
    "def count_pixel(binary_image, points, topdown=True):\n",
    "    y = points[0]\n",
    "    x = points[1]\n",
    "    no_of_pixels = 0\n",
    "    \n",
    "    while binary_image[y,x] == 1:\n",
    "        if topdown == True:\n",
    "            y += 1\n",
    "        else:\n",
    "            y -= 1\n",
    "        no_of_pixels += 1\n",
    "    \n",
    "    return no_of_pixels"
   ]
  },
  {
   "cell_type": "code",
   "execution_count": 6,
   "metadata": {},
   "outputs": [],
   "source": [
    "# calculate_heights was previously inversed_heights()\n",
    "def calculate_heights(binary_image, starting_points, topdown=True):\n",
    "    heights = []\n",
    "    for points in starting_points:\n",
    "        height = count_pixel(binary_image, points, topdown)\n",
    "        heights.append(height)\n",
    "    \n",
    "    return np.array(heights)"
   ]
  },
  {
   "cell_type": "code",
   "execution_count": 7,
   "metadata": {},
   "outputs": [],
   "source": [
    "# calculates the actual water height\n",
    "# (container_height - inversed_height)\n",
    "def actual_height(inversed_height):\n",
    "    return 320-inversed_height"
   ]
  },
  {
   "cell_type": "code",
   "execution_count": 8,
   "metadata": {},
   "outputs": [],
   "source": [
    "def pixel_to_mm(value):\n",
    "    return value*0.828"
   ]
  },
  {
   "cell_type": "code",
   "execution_count": 9,
   "metadata": {},
   "outputs": [],
   "source": [
    "# determine the actual boundary location\n",
    "def find_boundary_coords(inversed_height_points, upper_bounds):\n",
    "    y_locs = upper_bounds[:,0] + inversed_height_points\n",
    "    x_locs = upper_bounds[:,1]\n",
    "    \n",
    "    y_locs = y_locs[:,np.newaxis]\n",
    "    x_locs = x_locs[:,np.newaxis]\n",
    "    \n",
    "    coords = np.hstack((y_locs, x_locs))\n",
    "    \n",
    "    return coords"
   ]
  },
  {
   "cell_type": "code",
   "execution_count": 10,
   "metadata": {},
   "outputs": [],
   "source": [
    "def line_indices(boundary_coords):\n",
    "    rrs = []\n",
    "    ccs = []\n",
    "    for i in range(len(boundary_coords)-1):\n",
    "        y0 = boundary_coords[i][0]\n",
    "        x0 = boundary_coords[i][1]\n",
    "        y1 = boundary_coords[i+1][0]\n",
    "        x1 = boundary_coords[i+1][1]\n",
    "        \n",
    "        rr, cc, _ = draw.line_aa(y0, x0, y1, x1)\n",
    "        rrs.append(rr)\n",
    "        ccs.append(cc)\n",
    "    \n",
    "    return rrs, ccs"
   ]
  },
  {
   "cell_type": "code",
   "execution_count": 11,
   "metadata": {},
   "outputs": [],
   "source": [
    "def draw_lines(rgb_image, rrs, ccs):\n",
    "    for rr, cc in zip(rrs, ccs):\n",
    "        rgb_image[rr,cc,0] = 0\n",
    "        rgb_image[rr,cc,1] = 0\n",
    "        rgb_image[rr,cc,2] = 255\n",
    "        \n",
    "        rgb_image[rr+1,cc+1,0] = 0\n",
    "        rgb_image[rr+1,cc+1,1] = 0\n",
    "        rgb_image[rr+1,cc+1,2] = 255\n",
    "    \n",
    "    return rgb_image"
   ]
  },
  {
   "cell_type": "code",
   "execution_count": 12,
   "metadata": {},
   "outputs": [],
   "source": [
    "# Keep in mind that camera a and 3b is using topdown approach\n",
    "def take_data(heights, indices):\n",
    "    heights_to_save = heights[indices]\n",
    "    heights_to_save = actual_height(heights_to_save)\n",
    "    heights_to_save = pixel_to_mm(heights_to_save)\n",
    "    return heights_to_save"
   ]
  },
  {
   "cell_type": "code",
   "execution_count": 13,
   "metadata": {},
   "outputs": [],
   "source": [
    "# Camera 3c is using bottom up approach\n",
    "def take_data_cam_3c(heights, indices=INDICES_CAM3C):\n",
    "    heights_to_save = heights[indices]\n",
    "    heights_to_save = pixel_to_mm(heights_to_save)\n",
    "    return heights_to_save"
   ]
  },
  {
   "cell_type": "raw",
   "metadata": {},
   "source": [
    "def concatenate_heights(heights_a1, heights_a2_heights_a3, heights_b, heights_c):\n",
    "    heights = np.hstack"
   ]
  },
  {
   "cell_type": "code",
   "execution_count": 14,
   "metadata": {},
   "outputs": [],
   "source": [
    "'''\n",
    "INDICES_CAM1 = [2,6,10,14,18,22,26,30,34]\n",
    "INDICES_CAM3A1 = [0]\n",
    "INDICES_CAM3A2 = [0]\n",
    "INDICES_CAM3A3 = [0]\n",
    "INDICES_CAM3B = [2,6,10,14]\n",
    "INDICES_CAM3C = [2,6]\n",
    "'''\n",
    "\n",
    "def calculate_all_sections(filename):\n",
    "    binary_image, rgb_image, binary_image45, rgb_image45, binary_image35, rgb_image35, binary_image25, rgb_image25, binary_image15, rgb_image15 = preprocess_image(filename)\n",
    "    \n",
    "    heights_3c = calculate_heights(binary_image, LOWER_BOUNDS_CAM3C, topdown=False)\n",
    "    heights_3c = take_data_cam_3c(heights_3c, INDICES_CAM3C)\n",
    "    \n",
    "    heights_3b = calculate_heights(binary_image45, UPPER_BOUNDS_CAM3B, topdown=True)\n",
    "    heights_3b = take_data(heights_3b, INDICES_CAM3B)\n",
    "    \n",
    "    # A3 (rightmost, 35 deg)\n",
    "    heights_3a3 = calculate_heights(binary_image35, UPPER_BOUNDS_CAM3A3, topdown=True)\n",
    "    heights_3a3 = take_data(heights_3a3, INDICES_CAM3A3)\n",
    "    \n",
    "    # A2 (mid, 25 deg)\n",
    "    heights_3a2 = calculate_heights(binary_image25, UPPER_BOUNDS_CAM3A2, topdown=True)\n",
    "    heights_3a2 = take_data(heights_3a2, INDICES_CAM3A2)\n",
    "    \n",
    "    # A1 (leftmost, 15 deg)\n",
    "    heights_3a1 = calculate_heights(binary_image15, UPPER_BOUNDS_CAM3A1, topdown=True)\n",
    "    heights_3a1 = take_data(heights_3a1, INDICES_CAM3A1)\n",
    "    \n",
    "    return heights_3a1, heights_3a2, heights_3a3, heights_3b, heights_3c"
   ]
  },
  {
   "cell_type": "markdown",
   "metadata": {},
   "source": [
    "### Main program goes below (use this)"
   ]
  },
  {
   "cell_type": "code",
   "execution_count": 15,
   "metadata": {},
   "outputs": [
    {
     "name": "stderr",
     "output_type": "stream",
     "text": [
      "100%|██████████| 4/4 [00:22<00:00,  5.73s/it]\n"
     ]
    }
   ],
   "source": [
    "# HOW TO USE THIS CODE\n",
    "# declare empty list satu2. misal heights_3a1 = [], dst\n",
    "# for satu_gambar in semua_gambar_cam_3:\n",
    "#     calculate_all_sections()\n",
    "#     append satu2\n",
    "# list = np.array(list)\n",
    "# lalu pakai fungsi concatenate_heights()\n",
    "\n",
    "PATH = 'cam3_images/'\n",
    "filenames = os.listdir(PATH)\n",
    "\n",
    "heights_3a1s = []\n",
    "heights_3a2s = []\n",
    "heights_3a3s = []\n",
    "heights_3bs = []\n",
    "heights_3cs = []\n",
    "\n",
    "for filename in tqdm(filenames):\n",
    "    file_path = PATH + filename\n",
    "    \n",
    "    heights_3a1, heights_3a2, heights_3a3, heights_3b, heights_3c = calculate_all_sections(file_path)\n",
    "    \n",
    "    heights_3a1s.append(heights_3a1)\n",
    "    heights_3a2s.append(heights_3a2)\n",
    "    heights_3a3s.append(heights_3a3)\n",
    "    heights_3bs.append(heights_3b)\n",
    "    heights_3cs.append(heights_3c)\n",
    "    \n",
    "heights_3a1s = np.array(heights_3a1s)\n",
    "heights_3a2s = np.array(heights_3a2s)\n",
    "heights_3a3s = np.array(heights_3a3s)\n",
    "heights_3bs = np.array(heights_3bs)\n",
    "heights_3cs = np.array(heights_3cs)"
   ]
  },
  {
   "cell_type": "code",
   "execution_count": 16,
   "metadata": {},
   "outputs": [],
   "source": [
    "all_heights = np.hstack((heights_3a1s,heights_3a2s,heights_3a3s,heights_3bs,heights_3cs))"
   ]
  },
  {
   "cell_type": "code",
   "execution_count": 17,
   "metadata": {},
   "outputs": [
    {
     "data": {
      "text/plain": [
       "(4, 9)"
      ]
     },
     "execution_count": 17,
     "metadata": {},
     "output_type": "execute_result"
    }
   ],
   "source": [
    "all_heights.shape"
   ]
  },
  {
   "cell_type": "code",
   "execution_count": 18,
   "metadata": {},
   "outputs": [],
   "source": [
    "column_names = ['Point 0', 'Point 1', 'Point 2', 'Point 3', 'Point 4', \n",
    "                'Point 5', 'Point 6', 'Point 7', 'Point 8']\n",
    "df = pd.DataFrame(all_heights, columns=column_names)"
   ]
  },
  {
   "cell_type": "code",
   "execution_count": 19,
   "metadata": {},
   "outputs": [
    {
     "data": {
      "text/html": [
       "<div>\n",
       "<style scoped>\n",
       "    .dataframe tbody tr th:only-of-type {\n",
       "        vertical-align: middle;\n",
       "    }\n",
       "\n",
       "    .dataframe tbody tr th {\n",
       "        vertical-align: top;\n",
       "    }\n",
       "\n",
       "    .dataframe thead th {\n",
       "        text-align: right;\n",
       "    }\n",
       "</style>\n",
       "<table border=\"1\" class=\"dataframe\">\n",
       "  <thead>\n",
       "    <tr style=\"text-align: right;\">\n",
       "      <th></th>\n",
       "      <th>Point 0</th>\n",
       "      <th>Point 1</th>\n",
       "      <th>Point 2</th>\n",
       "      <th>Point 3</th>\n",
       "      <th>Point 4</th>\n",
       "      <th>Point 5</th>\n",
       "      <th>Point 6</th>\n",
       "      <th>Point 7</th>\n",
       "      <th>Point 8</th>\n",
       "    </tr>\n",
       "  </thead>\n",
       "  <tbody>\n",
       "    <tr>\n",
       "      <th>0</th>\n",
       "      <td>21.528</td>\n",
       "      <td>38.916</td>\n",
       "      <td>37.260</td>\n",
       "      <td>31.464</td>\n",
       "      <td>33.120</td>\n",
       "      <td>26.496</td>\n",
       "      <td>41.400</td>\n",
       "      <td>78.660</td>\n",
       "      <td>117.576</td>\n",
       "    </tr>\n",
       "    <tr>\n",
       "      <th>1</th>\n",
       "      <td>21.528</td>\n",
       "      <td>38.088</td>\n",
       "      <td>34.776</td>\n",
       "      <td>29.808</td>\n",
       "      <td>24.012</td>\n",
       "      <td>26.496</td>\n",
       "      <td>41.400</td>\n",
       "      <td>78.660</td>\n",
       "      <td>117.576</td>\n",
       "    </tr>\n",
       "    <tr>\n",
       "      <th>2</th>\n",
       "      <td>22.356</td>\n",
       "      <td>39.744</td>\n",
       "      <td>41.400</td>\n",
       "      <td>29.808</td>\n",
       "      <td>24.012</td>\n",
       "      <td>30.636</td>\n",
       "      <td>42.228</td>\n",
       "      <td>78.660</td>\n",
       "      <td>117.576</td>\n",
       "    </tr>\n",
       "    <tr>\n",
       "      <th>3</th>\n",
       "      <td>22.356</td>\n",
       "      <td>38.088</td>\n",
       "      <td>42.228</td>\n",
       "      <td>28.980</td>\n",
       "      <td>24.012</td>\n",
       "      <td>29.808</td>\n",
       "      <td>49.680</td>\n",
       "      <td>79.488</td>\n",
       "      <td>117.576</td>\n",
       "    </tr>\n",
       "  </tbody>\n",
       "</table>\n",
       "</div>"
      ],
      "text/plain": [
       "   Point 0  Point 1  Point 2  Point 3  Point 4  Point 5  Point 6  Point 7  \\\n",
       "0   21.528   38.916   37.260   31.464   33.120   26.496   41.400   78.660   \n",
       "1   21.528   38.088   34.776   29.808   24.012   26.496   41.400   78.660   \n",
       "2   22.356   39.744   41.400   29.808   24.012   30.636   42.228   78.660   \n",
       "3   22.356   38.088   42.228   28.980   24.012   29.808   49.680   79.488   \n",
       "\n",
       "   Point 8  \n",
       "0  117.576  \n",
       "1  117.576  \n",
       "2  117.576  \n",
       "3  117.576  "
      ]
     },
     "execution_count": 19,
     "metadata": {},
     "output_type": "execute_result"
    }
   ],
   "source": [
    "df"
   ]
  },
  {
   "cell_type": "code",
   "execution_count": null,
   "metadata": {},
   "outputs": [],
   "source": []
  },
  {
   "cell_type": "code",
   "execution_count": null,
   "metadata": {},
   "outputs": [],
   "source": []
  },
  {
   "cell_type": "markdown",
   "metadata": {},
   "source": [
    "### Main program goes below (test)"
   ]
  },
  {
   "cell_type": "code",
   "execution_count": 20,
   "metadata": {},
   "outputs": [],
   "source": [
    "filename = 'cam3_images/CCFL040_10_2000_335_up_a_0000.bmp'"
   ]
  },
  {
   "cell_type": "code",
   "execution_count": 21,
   "metadata": {},
   "outputs": [],
   "source": [
    "binary_image, rgb_image, binary_image45, rgb_image45, binary_image35, rgb_image35, binary_image25, rgb_image25, binary_image15, rgb_image15 = preprocess_image(filename)"
   ]
  },
  {
   "cell_type": "code",
   "execution_count": 22,
   "metadata": {},
   "outputs": [
    {
     "data": {
      "text/plain": [
       "array([ 79.488, 117.576])"
      ]
     },
     "execution_count": 22,
     "metadata": {},
     "output_type": "execute_result"
    }
   ],
   "source": [
    "heights_3c = calculate_heights(binary_image, LOWER_BOUNDS_CAM3C, topdown=False)\n",
    "heights_3c = take_data_cam_3c(heights_3c)\n",
    "heights_3c"
   ]
  },
  {
   "cell_type": "code",
   "execution_count": null,
   "metadata": {},
   "outputs": [],
   "source": []
  },
  {
   "cell_type": "raw",
   "metadata": {},
   "source": [
    "plt.figure(figsize=(8,8))\n",
    "#plt.yticks(np.arange(0, 1600, 20))\n",
    "#plt.xticks(np.arange(0, 1200, 25))\n",
    "plt.imshow(cv2.cvtColor(rgb_image, cv2.COLOR_RGB2GRAY))"
   ]
  },
  {
   "cell_type": "code",
   "execution_count": 23,
   "metadata": {},
   "outputs": [
    {
     "ename": "TypeError",
     "evalue": "take_data() missing 1 required positional argument: 'indices'",
     "output_type": "error",
     "traceback": [
      "\u001b[0;31m---------------------------------------------------------------------------\u001b[0m",
      "\u001b[0;31mTypeError\u001b[0m                                 Traceback (most recent call last)",
      "\u001b[0;32m<ipython-input-23-2a8939c2cecb>\u001b[0m in \u001b[0;36m<module>\u001b[0;34m\u001b[0m\n\u001b[1;32m      1\u001b[0m \u001b[0mheights_3b\u001b[0m \u001b[0;34m=\u001b[0m \u001b[0mcalculate_heights\u001b[0m\u001b[0;34m(\u001b[0m\u001b[0mbinary_image45\u001b[0m\u001b[0;34m,\u001b[0m \u001b[0mUPPER_BOUNDS_CAM3B\u001b[0m\u001b[0;34m,\u001b[0m \u001b[0mtopdown\u001b[0m\u001b[0;34m=\u001b[0m\u001b[0;32mTrue\u001b[0m\u001b[0;34m)\u001b[0m\u001b[0;34m\u001b[0m\u001b[0;34m\u001b[0m\u001b[0m\n\u001b[0;32m----> 2\u001b[0;31m \u001b[0mheights_3b\u001b[0m \u001b[0;34m=\u001b[0m \u001b[0mtake_data\u001b[0m\u001b[0;34m(\u001b[0m\u001b[0mheights_3b\u001b[0m\u001b[0;34m)\u001b[0m\u001b[0;34m\u001b[0m\u001b[0;34m\u001b[0m\u001b[0m\n\u001b[0m",
      "\u001b[0;31mTypeError\u001b[0m: take_data() missing 1 required positional argument: 'indices'"
     ]
    }
   ],
   "source": [
    "heights_3b = calculate_heights(binary_image45, UPPER_BOUNDS_CAM3B, topdown=True)\n",
    "heights_3b = take_data(heights_3b)"
   ]
  },
  {
   "cell_type": "code",
   "execution_count": 24,
   "metadata": {},
   "outputs": [
    {
     "data": {
      "text/plain": [
       "array([294, 293, 285, 284, 280, 269, 291, 291, 278, 281, 284, 280, 254,\n",
       "       246, 260, 266, 266])"
      ]
     },
     "execution_count": 24,
     "metadata": {},
     "output_type": "execute_result"
    }
   ],
   "source": [
    "heights_3b"
   ]
  },
  {
   "cell_type": "raw",
   "metadata": {},
   "source": [
    "plt.figure(figsize=(8,8))\n",
    "#plt.yticks(np.arange(0, 1600, 20))\n",
    "#plt.xticks(np.arange(0, 1200, 25))\n",
    "plt.imshow(cv2.cvtColor(rgb_image45, cv2.COLOR_RGB2GRAY))"
   ]
  },
  {
   "cell_type": "code",
   "execution_count": 25,
   "metadata": {},
   "outputs": [
    {
     "ename": "TypeError",
     "evalue": "take_data() missing 1 required positional argument: 'indices'",
     "output_type": "error",
     "traceback": [
      "\u001b[0;31m---------------------------------------------------------------------------\u001b[0m",
      "\u001b[0;31mTypeError\u001b[0m                                 Traceback (most recent call last)",
      "\u001b[0;32m<ipython-input-25-3150cfdab952>\u001b[0m in \u001b[0;36m<module>\u001b[0;34m\u001b[0m\n\u001b[1;32m      1\u001b[0m \u001b[0;31m# A3 (rightmost, 35 deg)\u001b[0m\u001b[0;34m\u001b[0m\u001b[0;34m\u001b[0m\u001b[0;34m\u001b[0m\u001b[0m\n\u001b[1;32m      2\u001b[0m \u001b[0mheights_3a3\u001b[0m \u001b[0;34m=\u001b[0m \u001b[0mcalculate_heights\u001b[0m\u001b[0;34m(\u001b[0m\u001b[0mbinary_image35\u001b[0m\u001b[0;34m,\u001b[0m \u001b[0mUPPER_BOUNDS_CAM3A3\u001b[0m\u001b[0;34m,\u001b[0m \u001b[0mtopdown\u001b[0m\u001b[0;34m=\u001b[0m\u001b[0;32mTrue\u001b[0m\u001b[0;34m)\u001b[0m\u001b[0;34m\u001b[0m\u001b[0;34m\u001b[0m\u001b[0m\n\u001b[0;32m----> 3\u001b[0;31m \u001b[0mheights_3a3\u001b[0m \u001b[0;34m=\u001b[0m \u001b[0mtake_data\u001b[0m\u001b[0;34m(\u001b[0m\u001b[0mheights_3a3\u001b[0m\u001b[0;34m)\u001b[0m\u001b[0;34m\u001b[0m\u001b[0;34m\u001b[0m\u001b[0m\n\u001b[0m",
      "\u001b[0;31mTypeError\u001b[0m: take_data() missing 1 required positional argument: 'indices'"
     ]
    }
   ],
   "source": [
    "# A3 (rightmost, 35 deg)\n",
    "heights_3a3 = calculate_heights(binary_image35, UPPER_BOUNDS_CAM3A3, topdown=True)\n",
    "heights_3a3 = take_data(heights_3a3)"
   ]
  },
  {
   "cell_type": "code",
   "execution_count": 26,
   "metadata": {},
   "outputs": [
    {
     "data": {
      "text/plain": [
       "array([269])"
      ]
     },
     "execution_count": 26,
     "metadata": {},
     "output_type": "execute_result"
    }
   ],
   "source": [
    "heights_3a3"
   ]
  },
  {
   "cell_type": "code",
   "execution_count": 27,
   "metadata": {},
   "outputs": [
    {
     "ename": "TypeError",
     "evalue": "take_data() missing 1 required positional argument: 'indices'",
     "output_type": "error",
     "traceback": [
      "\u001b[0;31m---------------------------------------------------------------------------\u001b[0m",
      "\u001b[0;31mTypeError\u001b[0m                                 Traceback (most recent call last)",
      "\u001b[0;32m<ipython-input-27-76473fd0baf0>\u001b[0m in \u001b[0;36m<module>\u001b[0;34m\u001b[0m\n\u001b[1;32m      1\u001b[0m \u001b[0;31m# A2 (mid, 25 deg)\u001b[0m\u001b[0;34m\u001b[0m\u001b[0;34m\u001b[0m\u001b[0;34m\u001b[0m\u001b[0m\n\u001b[1;32m      2\u001b[0m \u001b[0mheights_3a2\u001b[0m \u001b[0;34m=\u001b[0m \u001b[0mcalculate_heights\u001b[0m\u001b[0;34m(\u001b[0m\u001b[0mbinary_image25\u001b[0m\u001b[0;34m,\u001b[0m \u001b[0mUPPER_BOUNDS_CAM3A2\u001b[0m\u001b[0;34m,\u001b[0m \u001b[0mtopdown\u001b[0m\u001b[0;34m=\u001b[0m\u001b[0;32mTrue\u001b[0m\u001b[0;34m)\u001b[0m\u001b[0;34m\u001b[0m\u001b[0;34m\u001b[0m\u001b[0m\n\u001b[0;32m----> 3\u001b[0;31m \u001b[0mheights_3a2\u001b[0m \u001b[0;34m=\u001b[0m \u001b[0mtake_data\u001b[0m\u001b[0;34m(\u001b[0m\u001b[0mheights_3a2\u001b[0m\u001b[0;34m)\u001b[0m\u001b[0;34m\u001b[0m\u001b[0;34m\u001b[0m\u001b[0m\n\u001b[0m",
      "\u001b[0;31mTypeError\u001b[0m: take_data() missing 1 required positional argument: 'indices'"
     ]
    }
   ],
   "source": [
    "# A2 (mid, 25 deg)\n",
    "heights_3a2 = calculate_heights(binary_image25, UPPER_BOUNDS_CAM3A2, topdown=True)\n",
    "heights_3a2 = take_data(heights_3a2)"
   ]
  },
  {
   "cell_type": "code",
   "execution_count": 28,
   "metadata": {},
   "outputs": [
    {
     "data": {
      "text/plain": [
       "array([274])"
      ]
     },
     "execution_count": 28,
     "metadata": {},
     "output_type": "execute_result"
    }
   ],
   "source": [
    "heights_3a2"
   ]
  },
  {
   "cell_type": "code",
   "execution_count": 29,
   "metadata": {},
   "outputs": [
    {
     "ename": "TypeError",
     "evalue": "take_data() missing 1 required positional argument: 'indices'",
     "output_type": "error",
     "traceback": [
      "\u001b[0;31m---------------------------------------------------------------------------\u001b[0m",
      "\u001b[0;31mTypeError\u001b[0m                                 Traceback (most recent call last)",
      "\u001b[0;32m<ipython-input-29-20e4456e2636>\u001b[0m in \u001b[0;36m<module>\u001b[0;34m\u001b[0m\n\u001b[1;32m      1\u001b[0m \u001b[0;31m# A1 (leftmost, 15 deg)\u001b[0m\u001b[0;34m\u001b[0m\u001b[0;34m\u001b[0m\u001b[0;34m\u001b[0m\u001b[0m\n\u001b[1;32m      2\u001b[0m \u001b[0mheights_3a1\u001b[0m \u001b[0;34m=\u001b[0m \u001b[0mcalculate_heights\u001b[0m\u001b[0;34m(\u001b[0m\u001b[0mbinary_image15\u001b[0m\u001b[0;34m,\u001b[0m \u001b[0mUPPER_BOUNDS_CAM3A1\u001b[0m\u001b[0;34m,\u001b[0m \u001b[0mtopdown\u001b[0m\u001b[0;34m=\u001b[0m\u001b[0;32mTrue\u001b[0m\u001b[0;34m)\u001b[0m\u001b[0;34m\u001b[0m\u001b[0;34m\u001b[0m\u001b[0m\n\u001b[0;32m----> 3\u001b[0;31m \u001b[0mheights_3a1\u001b[0m \u001b[0;34m=\u001b[0m \u001b[0mtake_data\u001b[0m\u001b[0;34m(\u001b[0m\u001b[0mheights_3a1\u001b[0m\u001b[0;34m)\u001b[0m\u001b[0;34m\u001b[0m\u001b[0;34m\u001b[0m\u001b[0m\n\u001b[0m",
      "\u001b[0;31mTypeError\u001b[0m: take_data() missing 1 required positional argument: 'indices'"
     ]
    }
   ],
   "source": [
    "# A1 (leftmost, 15 deg)\n",
    "heights_3a1 = calculate_heights(binary_image15, UPPER_BOUNDS_CAM3A1, topdown=True)\n",
    "heights_3a1 = take_data(heights_3a1)"
   ]
  },
  {
   "cell_type": "code",
   "execution_count": 30,
   "metadata": {},
   "outputs": [
    {
     "data": {
      "text/plain": [
       "array([293])"
      ]
     },
     "execution_count": 30,
     "metadata": {},
     "output_type": "execute_result"
    }
   ],
   "source": [
    "heights_3a1"
   ]
  }
 ],
 "metadata": {
  "kernelspec": {
   "display_name": "Python 3",
   "language": "python",
   "name": "python3"
  },
  "language_info": {
   "codemirror_mode": {
    "name": "ipython",
    "version": 3
   },
   "file_extension": ".py",
   "mimetype": "text/x-python",
   "name": "python",
   "nbconvert_exporter": "python",
   "pygments_lexer": "ipython3",
   "version": "3.8.5"
  }
 },
 "nbformat": 4,
 "nbformat_minor": 2
}
