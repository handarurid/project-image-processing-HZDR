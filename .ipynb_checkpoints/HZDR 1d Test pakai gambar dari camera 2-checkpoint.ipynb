{
 "cells": [
  {
   "cell_type": "code",
   "execution_count": 1,
   "metadata": {},
   "outputs": [
    {
     "name": "stderr",
     "output_type": "stream",
     "text": [
      "C:\\Anaconda3\\lib\\site-packages\\dask\\config.py:168: YAMLLoadWarning: calling yaml.load() without Loader=... is deprecated, as the default Loader is unsafe. Please read https://msg.pyyaml.org/load for full details.\n",
      "  data = yaml.load(f.read()) or {}\n"
     ]
    }
   ],
   "source": [
    "import cv2\n",
    "import numpy as np\n",
    "import matplotlib.pyplot as plt\n",
    "import seaborn as sns; sns.set()\n",
    "from skimage import draw"
   ]
  },
  {
   "cell_type": "code",
   "execution_count": 3,
   "metadata": {},
   "outputs": [],
   "source": [
    "def preprocess_image(filename):\n",
    "    bgr_image       = cv2.imread(filename)\n",
    "    rgb_image       = cv2.cvtColor(bgr_image, cv2.COLOR_BGR2RGB)\n",
    "    gray_image      = cv2.cvtColor(rgb_image, cv2.COLOR_RGB2GRAY)\n",
    "    # ANGKA THRESHOLD ADALAH 210 YANG ADA DI BAWAH SINI\n",
    "    _, binary_image = cv2.threshold(gray_image, 210, 255, cv2.THRESH_BINARY)\n",
    "    binary_image    = binary_image/255\n",
    "    \n",
    "    return binary_image, gray_image"
   ]
  },
  {
   "cell_type": "code",
   "execution_count": 11,
   "metadata": {},
   "outputs": [
    {
     "data": {
      "text/plain": [
       "<matplotlib.image.AxesImage at 0x1a72316b5c0>"
      ]
     },
     "execution_count": 11,
     "metadata": {},
     "output_type": "execute_result"
    },
    {
     "data": {
      "image/png": "[encoded data removed]",
      "text/plain": [
       "<Figure size 720x720 with 1 Axes>"
      ]
     },
     "metadata": {
      "needs_background": "light"
     },
     "output_type": "display_data"
    }
   ],
   "source": [
    "binary_image, gray_image = preprocess_image('Cam2_4.jpeg')\n",
    "size = 5\n",
    "y_start = 100\n",
    "\n",
    "plt.figure(figsize=(10,10))\n",
    "binary_image[110-size:110+size,150-size:150+size] = 0\n",
    "binary_image[y_start-size:y_start+size,175-size:175+size] = 0\n",
    "binary_image[y_start-size:y_start+size,200-size:200+size] = 0\n",
    "binary_image[y_start-size:y_start+size,225-size:225+size] = 0\n",
    "binary_image[y_start-size:y_start+size,250-size:250+size] = 0\n",
    "binary_image[y_start-size:y_start+size,275-size:275+size] = 0\n",
    "binary_image[y_start-size:y_start+size,300-size:300+size] = 0\n",
    "binary_image[y_start-size:y_start+size,325-size:325+size] = 0\n",
    "binary_image[y_start-size:y_start+size,350-size:350+size] = 0\n",
    "binary_image[y_start-size:y_start+size,375-size:375+size] = 0\n",
    "binary_image[y_start-size:y_start+size,400-size:400+size] = 0\n",
    "binary_image[y_start-size:y_start+size,425-size:425+size] = 0\n",
    "binary_image[y_start-size:y_start+size,450-size:450+size] = 0\n",
    "binary_image[y_start-size:y_start+size,475-size:475+size] = 0\n",
    "binary_image[y_start-size:y_start+size,500-size:500+size] = 0\n",
    "binary_image[y_start-size:y_start+size,525-size:525+size] = 0\n",
    "binary_image[y_start-size:y_start+size,550-size:550+size] = 0\n",
    "binary_image[y_start-size:y_start+size,575-size:575+size] = 0\n",
    "binary_image[y_start-size:y_start+size,600-size:600+size] = 0\n",
    "binary_image[y_start-size:y_start+size,625-size:625+size] = 0\n",
    "binary_image[y_start-size:y_start+size,650-size:650+size] = 0\n",
    "binary_image[y_start-size:y_start+size,675-size:675+size] = 0\n",
    "binary_image[y_start-size:y_start+size,700-size:700+size] = 0\n",
    "binary_image[y_start-size:y_start+size,725-size:725+size] = 0\n",
    "binary_image[y_start-size:y_start+size,750-size:750+size] = 0\n",
    "binary_image[y_start-size:y_start+size,775-size:775+size] = 0\n",
    "binary_image[y_start-size:y_start+size,800-size:800+size] = 0\n",
    "binary_image[y_start-size:y_start+size,825-size:825+size] = 0\n",
    "binary_image[y_start-size:y_start+size,850-size:850+size] = 0\n",
    "binary_image[y_start-size:y_start+size,875-size:875+size] = 0\n",
    "binary_image[y_start-size:y_start+size,900-size:900+size] = 0\n",
    "binary_image[y_start-size:y_start+size,925-size:925+size] = 0\n",
    "binary_image[y_start-size:y_start+size,950-size:950+size] = 0\n",
    "binary_image[y_start-size:y_start+size,975-size:975+size] = 0\n",
    "binary_image[y_start-size:y_start+size,1000-size:1000+size] = 0\n",
    "binary_image[y_start-size:y_start+size,1025-size:1025+size] = 0\n",
    "binary_image[y_start-size:y_start+size,1050-size:1050+size] = 0\n",
    "binary_image[y_start-size:y_start+size,1075-size:1075+size] = 0\n",
    "binary_image[y_start-size:y_start+size,1100-size:1100+size] = 0\n",
    "binary_image[120-size:120+size,1125-size:1125+size] = 0\n",
    "\n",
    "# INI UNTUK MEMPERKIRAKAN KETINGGIAN DARI STARTING POINT KE DASAR WADAH\n",
    "# DI SINI SAYA COBA PAKAI TINGGI 200, TAPI TERNYATA MASIH KURANG\n",
    "binary_image[y_start:y_start+200,600-size:600+size] = 0\n",
    "\n",
    "\n",
    "plt.imshow(binary_image, cmap='gray')"
   ]
  },
  {
   "cell_type": "code",
   "execution_count": 13,
   "metadata": {},
   "outputs": [
    {
     "data": {
      "text/plain": [
       "<matplotlib.image.AxesImage at 0x1a723223ef0>"
      ]
     },
     "execution_count": 13,
     "metadata": {},
     "output_type": "execute_result"
    },
    {
     "data": {
      "image/png": "[encoded data removed]",
      "text/plain": [
       "<Figure size 720x720 with 1 Axes>"
      ]
     },
     "metadata": {
      "needs_background": "light"
     },
     "output_type": "display_data"
    }
   ],
   "source": [
    "binary_image, gray_image = preprocess_image('Cam2_4.jpeg')\n",
    "size = 5\n",
    "y_start = 100\n",
    "\n",
    "plt.figure(figsize=(10,10))\n",
    "binary_image[110-size:110+size,150-size:150+size] = 0\n",
    "binary_image[y_start-size:y_start+size,175-size:175+size] = 0\n",
    "binary_image[y_start-size:y_start+size,200-size:200+size] = 0\n",
    "binary_image[y_start-size:y_start+size,225-size:225+size] = 0\n",
    "binary_image[y_start-size:y_start+size,250-size:250+size] = 0\n",
    "binary_image[y_start-size:y_start+size,275-size:275+size] = 0\n",
    "binary_image[y_start-size:y_start+size,300-size:300+size] = 0\n",
    "binary_image[y_start-size:y_start+size,325-size:325+size] = 0\n",
    "binary_image[y_start-size:y_start+size,350-size:350+size] = 0\n",
    "binary_image[y_start-size:y_start+size,375-size:375+size] = 0\n",
    "binary_image[y_start-size:y_start+size,400-size:400+size] = 0\n",
    "binary_image[y_start-size:y_start+size,425-size:425+size] = 0\n",
    "binary_image[y_start-size:y_start+size,450-size:450+size] = 0\n",
    "binary_image[y_start-size:y_start+size,475-size:475+size] = 0\n",
    "binary_image[y_start-size:y_start+size,500-size:500+size] = 0\n",
    "binary_image[y_start-size:y_start+size,525-size:525+size] = 0\n",
    "binary_image[y_start-size:y_start+size,550-size:550+size] = 0\n",
    "binary_image[y_start-size:y_start+size,575-size:575+size] = 0\n",
    "binary_image[y_start-size:y_start+size,600-size:600+size] = 0\n",
    "binary_image[y_start-size:y_start+size,625-size:625+size] = 0\n",
    "binary_image[y_start-size:y_start+size,650-size:650+size] = 0\n",
    "binary_image[y_start-size:y_start+size,675-size:675+size] = 0\n",
    "binary_image[y_start-size:y_start+size,700-size:700+size] = 0\n",
    "binary_image[y_start-size:y_start+size,725-size:725+size] = 0\n",
    "binary_image[y_start-size:y_start+size,750-size:750+size] = 0\n",
    "binary_image[y_start-size:y_start+size,775-size:775+size] = 0\n",
    "binary_image[y_start-size:y_start+size,800-size:800+size] = 0\n",
    "binary_image[y_start-size:y_start+size,825-size:825+size] = 0\n",
    "binary_image[y_start-size:y_start+size,850-size:850+size] = 0\n",
    "binary_image[y_start-size:y_start+size,875-size:875+size] = 0\n",
    "binary_image[y_start-size:y_start+size,900-size:900+size] = 0\n",
    "binary_image[y_start-size:y_start+size,925-size:925+size] = 0\n",
    "binary_image[y_start-size:y_start+size,950-size:950+size] = 0\n",
    "binary_image[y_start-size:y_start+size,975-size:975+size] = 0\n",
    "binary_image[y_start-size:y_start+size,1000-size:1000+size] = 0\n",
    "binary_image[y_start-size:y_start+size,1025-size:1025+size] = 0\n",
    "binary_image[y_start-size:y_start+size,1050-size:1050+size] = 0\n",
    "binary_image[y_start-size:y_start+size,1075-size:1075+size] = 0\n",
    "binary_image[y_start-size:y_start+size,1100-size:1100+size] = 0\n",
    "binary_image[120-size:120+size,1125-size:1125+size] = 0\n",
    "\n",
    "# INI UNTUK MEMPERKIRAKAN KETINGGIAN DARI STARTING POINT KE DASAR WADAH\n",
    "# DI SINI SAYA COBA PAKAI TINGGI 200, TAPI TERNYATA MASIH KURANG\n",
    "binary_image[y_start:y_start+266,600-size:600+size] = 0\n",
    "\n",
    "\n",
    "plt.imshow(binary_image, cmap='gray')"
   ]
  },
  {
   "cell_type": "code",
   "execution_count": null,
   "metadata": {},
   "outputs": [],
   "source": []
  }
 ],
 "metadata": {
  "kernelspec": {
   "display_name": "Python 3.7.3 64-bit ('base': conda)",
   "language": "python",
   "name": "python37364bitbaseconda65b5f305a1974c36abb2297a98801d43"
  },
  "language_info": {
   "codemirror_mode": {
    "name": "ipython",
    "version": 3
   },
   "file_extension": ".py",
   "mimetype": "text/x-python",
   "name": "python",
   "nbconvert_exporter": "python",
   "pygments_lexer": "ipython3",
   "version": "3.7.3"
  }
 },
 "nbformat": 4,
 "nbformat_minor": 2
}
