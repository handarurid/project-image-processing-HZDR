{
 "cells": [
  {
   "cell_type": "code",
   "execution_count": 1,
   "metadata": {},
   "outputs": [
    {
     "name": "stderr",
     "output_type": "stream",
     "text": [
      "C:\\Anaconda3\\lib\\site-packages\\dask\\config.py:168: YAMLLoadWarning: calling yaml.load() without Loader=... is deprecated, as the default Loader is unsafe. Please read https://msg.pyyaml.org/load for full details.\n",
      "  data = yaml.load(f.read()) or {}\n"
     ]
    }
   ],
   "source": [
    "import cv2\n",
    "import imageio\n",
    "import numpy as np\n",
    "import pandas as pd\n",
    "import matplotlib.pyplot as plt\n",
    "from tqdm import tqdm\n",
    "from skimage import draw"
   ]
  },
  {
   "cell_type": "code",
   "execution_count": 2,
   "metadata": {},
   "outputs": [],
   "source": [
    "# approximation\n",
    "UPPER_BOUNDS_CAM1 = [[110,150], [95,175],\n",
    "                     [90,200], [85,225], [82,250], [80,275], \n",
    "                     [78,300], [75,325], [73,350], [73,375],\n",
    "                     [72,400], [71,425], [71,450], [71,475],\n",
    "                     [70,500], [70,525], [70,550], [70,575],\n",
    "                     [70,600], [70,625], [70,650], [70,675],\n",
    "                     [70,700], [70,725], [70,750], [70,775],\n",
    "                     [75,800], [73,825], [75,850], [76,875],\n",
    "                     [77,900], [78,925], [78,950], [81,975],\n",
    "                     [82,1000], [88,1025], [94,1050], \n",
    "                     [100,1075], [100,1100], [120,1125]]\n",
    "\n",
    "UPPER_BOUNDS_CAM3 = [[845,150], [845,175],\n",
    "                     [840,200], [835,225], [827,250], [819,275], \n",
    "                     [805,300], [790,325], [775,350], [750,375],\n",
    "                     [730,400], [710,425], [690,450], [665,475],\n",
    "                     [630,500], [600,525], [560,550], [550,575],\n",
    "                     [505,600], [400,625], [380,650], [380,675],\n",
    "                     [380,700], [380,725], [380,750], [380,775],\n",
    "                     [380,800], [380,825], [380,850], [380,875],\n",
    "                     [380,900], [380,925], [380,950], [380,975],\n",
    "                     [380,1000], [380,1025], [380,1050], [380,1075], \n",
    "                     [380,1100]]\n",
    "\n",
    "UPPER_BOUNDS_CAM3B = [[800,600], [800,625], [800,650], [800,675],\n",
    "                     [800,700], [800,725], [800,750], [800,775],\n",
    "                     [800,800], [800,825], [800,850], [800,875],\n",
    "                     [800,900], [800,925], [800,950], [800,975],\n",
    "                     [800,1000]]\n",
    "\n",
    "LOWER_BOUNDS_CAM3C = [[700,900], [715,925], [725,950], [730,975],\n",
    "                     [740,1000], [750,1025], [760,1050], [765,1075], \n",
    "                     [765,1100]]\n",
    "\n",
    "UPPER_BOUNDS_CAM1 = np.array(UPPER_BOUNDS_CAM1)\n",
    "UPPER_BOUNDS_CAM3 = np.array(UPPER_BOUNDS_CAM3)\n",
    "LOWER_BOUNDS_CAM3C = np.array(LOWER_BOUNDS_CAM3C)"
   ]
  },
  {
   "cell_type": "code",
   "execution_count": 58,
   "metadata": {},
   "outputs": [],
   "source": [
    "# filename is an image file\n",
    "def preprocess_image(filename):\n",
    "    bgr_image       = cv2.imread(filename)\n",
    "    bgr_image       = increase_brightness(bgr_image, value=40)\n",
    "    rgb_image       = cv2.cvtColor(bgr_image, cv2.COLOR_BGR2RGB)\n",
    "    gray_image      = cv2.cvtColor(rgb_image, cv2.COLOR_RGB2GRAY)\n",
    "    _, binary_image = cv2.threshold(gray_image, 220, 255, cv2.THRESH_BINARY)\n",
    "    binary_image    = binary_image/255\n",
    "    \n",
    "    return binary_image, rgb_image"
   ]
  },
  {
   "cell_type": "code",
   "execution_count": 59,
   "metadata": {},
   "outputs": [],
   "source": [
    "def increase_brightness(img, value=30):\n",
    "    hsv = cv2.cvtColor(img, cv2.COLOR_BGR2HSV)\n",
    "    h, s, v = cv2.split(hsv)\n",
    "\n",
    "    lim = 255 - value\n",
    "    v[v > lim] = 255\n",
    "    v[v <= lim] += value\n",
    "\n",
    "    final_hsv = cv2.merge((h, s, v))\n",
    "    img = cv2.cvtColor(final_hsv, cv2.COLOR_HSV2BGR)\n",
    "    return img"
   ]
  },
  {
   "cell_type": "code",
   "execution_count": 60,
   "metadata": {},
   "outputs": [],
   "source": [
    "# points is a starting coordinate --> [y,x]\n",
    "# this function is used in inversed_hieghts() function\n",
    "def count_pixel(binary_image, points, topdown=True):\n",
    "    y = points[0]\n",
    "    x = points[1]\n",
    "    no_of_pixels = 0\n",
    "    \n",
    "    while binary_image[y,x] == 1:\n",
    "        if topdown == True:\n",
    "            y += 1\n",
    "        else:\n",
    "            y -= 1\n",
    "        no_of_pixels += 1\n",
    "    \n",
    "    return no_of_pixels"
   ]
  },
  {
   "cell_type": "code",
   "execution_count": 61,
   "metadata": {},
   "outputs": [],
   "source": [
    "# calculate_heights was previously inversed_heights()\n",
    "def calculate_heights(binary_image, starting_points, topdown=True):\n",
    "    heights = []\n",
    "    for points in starting_points:\n",
    "        height = count_pixel(binary_image, points, topdown)\n",
    "        heights.append(height)\n",
    "    \n",
    "    return np.array(heights)"
   ]
  },
  {
   "cell_type": "code",
   "execution_count": 62,
   "metadata": {},
   "outputs": [],
   "source": [
    "def pixel_to_mm(value):\n",
    "    return value*0.828"
   ]
  },
  {
   "cell_type": "markdown",
   "metadata": {},
   "source": [
    "# Main code goes below (this is file #13)"
   ]
  },
  {
   "cell_type": "code",
   "execution_count": 63,
   "metadata": {},
   "outputs": [],
   "source": [
    "binary_image, rgb_image = preprocess_image('cam3_images/CCFL040_10_2000_335_up_a_0003.bmp')"
   ]
  },
  {
   "cell_type": "code",
   "execution_count": 66,
   "metadata": {},
   "outputs": [],
   "source": [
    "heights = calculate_heights(binary_image, LOWER_BOUNDS_CAM3C, topdown=False)"
   ]
  },
  {
   "cell_type": "code",
   "execution_count": 67,
   "metadata": {},
   "outputs": [
    {
     "data": {
      "text/plain": [
       "array([ 60,  81,  95, 104, 118, 131, 142, 146, 142])"
      ]
     },
     "execution_count": 67,
     "metadata": {},
     "output_type": "execute_result"
    }
   ],
   "source": [
    "heights"
   ]
  },
  {
   "cell_type": "code",
   "execution_count": null,
   "metadata": {},
   "outputs": [],
   "source": []
  },
  {
   "cell_type": "code",
   "execution_count": null,
   "metadata": {},
   "outputs": [],
   "source": []
  },
  {
   "cell_type": "code",
   "execution_count": null,
   "metadata": {},
   "outputs": [],
   "source": []
  },
  {
   "cell_type": "code",
   "execution_count": null,
   "metadata": {},
   "outputs": [],
   "source": []
  },
  {
   "cell_type": "code",
   "execution_count": null,
   "metadata": {},
   "outputs": [],
   "source": []
  },
  {
   "cell_type": "code",
   "execution_count": null,
   "metadata": {},
   "outputs": [],
   "source": []
  }
 ],
 "metadata": {
  "kernelspec": {
   "display_name": "Python 3.7.3 64-bit ('base': conda)",
   "language": "python",
   "name": "python37364bitbaseconda65b5f305a1974c36abb2297a98801d43"
  },
  "language_info": {
   "codemirror_mode": {
    "name": "ipython",
    "version": 3
   },
   "file_extension": ".py",
   "mimetype": "text/x-python",
   "name": "python",
   "nbconvert_exporter": "python",
   "pygments_lexer": "ipython3",
   "version": "3.7.3"
  }
 },
 "nbformat": 4,
 "nbformat_minor": 2
}
